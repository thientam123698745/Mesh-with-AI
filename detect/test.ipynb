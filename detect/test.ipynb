{
 "cells": [
  {
   "cell_type": "code",
   "execution_count": 2,
   "metadata": {},
   "outputs": [],
   "source": [
    "import base64\n",
    "import requests\n",
    "import os\n",
    "import json\n",
    "from datetime import datetime"
   ]
  },
  {
   "cell_type": "code",
   "execution_count": 2,
   "metadata": {},
   "outputs": [],
   "source": [
    "API_KEY = 'PofhJGrHUoTJ9gL5dPQ5vgenbk8KWfHtSr4EVYsAbxI9STXYd2'"
   ]
  },
  {
   "cell_type": "code",
   "execution_count": 3,
   "metadata": {},
   "outputs": [],
   "source": [
    "def encode_file(url):\n",
    "    response = requests.get(url)\n",
    "    content = response.content\n",
    "    encoded_content = base64.b64encode(content).decode(\"ascii\")\n",
    "    return encoded_content\n"
   ]
  },
  {
   "cell_type": "code",
   "execution_count": 5,
   "metadata": {},
   "outputs": [],
   "source": [
    "def identify_plant(file_names):\n",
    "    response = requests.post(\n",
    "        \"https://api.plant.id/v2/health_assessment\",\n",
    "        json={\n",
    "            \"images\": [encode_file(img) for img in file_names],\n",
    "            \"modifiers\": [\"crops_fast\" ,\"similar_images\"],\n",
    "            \"language\": \"en\",\n",
    "            \"disease_details\": [\"cause\",\n",
    "                            \"common_names\",\n",
    "                            \"classification\",\n",
    "                            \"description\",\n",
    "                            \"treatment\",\n",
    "                            \"url\",\n",
    "                            ],\n",
    "        },\n",
    "        headers={\n",
    "            \"Content-Type\": \"application/json\",\n",
    "            \"Api-Key\": API_KEY,\n",
    "        })\n",
    "    return response.json()"
   ]
  },
  {
   "cell_type": "code",
   "execution_count": 6,
   "metadata": {},
   "outputs": [],
   "source": [
    "def create_log_file(data):\n",
    "    # Tạo đường dẫn tới thư mục \"log\"\n",
    "    log_dir = 'log'\n",
    "    os.makedirs(log_dir, exist_ok=True)\n",
    "\n",
    "    # Tạo tên tệp tin dựa trên thời gian hiện tại\n",
    "    current_time = datetime.now().strftime('%Y-%m-%d_%H-%M-%S')\n",
    "    filename = f\"log_{current_time}.json\"\n",
    "    filepath = os.path.join(log_dir, filename)\n",
    "\n",
    "    # Ghi dữ liệu vào tệp tin JSON\n",
    "    with open(filepath, 'w') as file:\n",
    "        json.dump(data, file)\n",
    "\n",
    "    print(f\"Tệp tin JSON đã được tạo: {filepath}\")"
   ]
  },
  {
   "cell_type": "code",
   "execution_count": 10,
   "metadata": {},
   "outputs": [],
   "source": [
    "def get_file_paths_in_folder(folder_path):\n",
    "    # Kiểm tra xem thư mục tồn tại không\n",
    "    if not os.path.exists(folder_path):\n",
    "        print(f\"Thư mục '{folder_path}' không tồn tại.\")\n",
    "        return []\n",
    "\n",
    "    # Lấy danh sách tệp tin trong thư mục\n",
    "    files = os.listdir(folder_path)\n",
    "\n",
    "    # Đường dẫn đầy đủ đến từng tệp tin\n",
    "    file_paths = [os.path.join(folder_path, file) for file in files]\n",
    "\n",
    "    return file_paths"
   ]
  },
  {
   "cell_type": "code",
   "execution_count": 8,
   "metadata": {},
   "outputs": [
    {
     "data": {
      "text/plain": [
       "['https://imagizer.imageshack.com/v2/256x256q90/r/922/qBS7oi.jpg',\n",
       " 'https://imagizer.imageshack.com/img922/8630/N8qVTq.jpg',\n",
       " 'https://imagizer.imageshack.com/v2/256x256q90/r/922/qBS7oi.jpg',\n",
       " 'https://imagizer.imageshack.com/img922/8630/N8qVTq.jpg',\n",
       " 'https://imagizer.imageshack.com/v2/256x256q90/r/922/qBS7oi.jpg']"
      ]
     },
     "execution_count": 8,
     "metadata": {},
     "output_type": "execute_result"
    }
   ],
   "source": [
    "# file_paths = get_file_paths_in_folder('img')\n",
    "file_paths = [\n",
    "        'https://imagizer.imageshack.com/v2/256x256q90/r/922/qBS7oi.jpg',\n",
    "        'https://imagizer.imageshack.com/img922/8630/N8qVTq.jpg',\n",
    "        'https://imagizer.imageshack.com/v2/256x256q90/r/922/qBS7oi.jpg',\n",
    "        'https://imagizer.imageshack.com/img922/8630/N8qVTq.jpg',\n",
    "        'https://imagizer.imageshack.com/v2/256x256q90/r/922/qBS7oi.jpg'\n",
    "    ]\n",
    "file_paths"
   ]
  },
  {
   "cell_type": "code",
   "execution_count": 9,
   "metadata": {},
   "outputs": [],
   "source": [
    "text = identify_plant(file_paths)\n",
    "# Lưu text này dưới dạng file .JSON"
   ]
  },
  {
   "cell_type": "code",
   "execution_count": 20,
   "metadata": {},
   "outputs": [
    {
     "name": "stdout",
     "output_type": "stream",
     "text": [
      "Tệp tin JSON đã được tạo: log\\log_2023-06-19_13-52-31.json\n"
     ]
    }
   ],
   "source": [
    "create_log_file(text)\n"
   ]
  },
  {
   "cell_type": "code",
   "execution_count": 6,
   "metadata": {},
   "outputs": [
    {
     "ename": "IndentationError",
     "evalue": "unexpected indent (1257894758.py, line 13)",
     "output_type": "error",
     "traceback": [
      "\u001b[1;36m  Cell \u001b[1;32mIn [6], line 13\u001b[1;36m\u001b[0m\n\u001b[1;33m    return is_healthy, is_healthy_probability, disease_names, disease_probabilities, disease_urls, disease_descriptions\u001b[0m\n\u001b[1;37m    ^\u001b[0m\n\u001b[1;31mIndentationError\u001b[0m\u001b[1;31m:\u001b[0m unexpected indent\n"
     ]
    }
   ],
   "source": [
    "def process_text():\n",
    "    # Lấy thông tin từ file .JSON\n",
    "    with open('log/log_2023-06-19_13-52-31.json') as json_file:\n",
    "        data = json.load(json_file)\n",
    "    is_healthy = data['health_assessment']['is_healthy']\n",
    "    is_healthy_probability = data['health_assessment']['is_healthy_probability']\n",
    "    diseases = data['health_assessment']['diseases']\n",
    "\n",
    "    disease_names = [name_index['name'] for name_index in diseases]\n",
    "    disease_probabilities = [name_index['probability'] for name_index in diseases]\n",
    "    disease_urls = [name_index['disease_details']['url'] for name_index in diseases]\n",
    "    disease_descriptions = [name_index['disease_details']['description'] for name_index in diseases]\n",
    "\n",
    "    return is_healthy, is_healthy_probability, disease_names, disease_probabilities, disease_urls, disease_descriptions\n"
   ]
  },
  {
   "cell_type": "code",
   "execution_count": 19,
   "metadata": {},
   "outputs": [
    {
     "name": "stdout",
     "output_type": "stream",
     "text": [
      "{'status_code': 200, 'success': {'message': 'image uploaded', 'code': 200}, 'image': {'name': '9f14cae8ffa3', 'extension': 'jpg', 'width': 256, 'height': 256, 'size': 15404, 'time': 1687140251, 'expiration': 0, 'adult': 0, 'status': 0, 'cloud': 0, 'vision': 0, 'likes': 0, 'description': None, 'original_exifdata': None, 'original_filename': '9f14cae8ffa3.jpg', 'views_html': 0, 'views_hotlink': 0, 'access_html': 0, 'access_hotlink': 0, 'file': {'resource': {'chain': {'image': 'https://iili.io/H6pqsB1.jpg', 'thumb': 'https://iili.io/H6pqsB1.th.jpg'}, 'chain_code': {'image': 'H6pqsB1', 'thumb': 'H6pqsB1'}}}, 'is_animated': 0, 'nsfw': 0, 'id_encoded': 'H6pqsB1', 'ratio': 1, 'size_formatted': '15.4 KB', 'filename': 'H6pqsB1.jpg', 'url': 'https://iili.io/H6pqsB1.jpg', 'url_short': 'https://freeimage.host/', 'url_seo': 'https://freeimage.host/i/9f14cae8ffa3.H6pqsB1', 'url_viewer': 'https://freeimage.host/i/H6pqsB1', 'url_viewer_preview': 'https://freeimage.host/', 'url_viewer_thumb': 'https://freeimage.host/i/H6pqsB1', 'image': {'filename': 'H6pqsB1.jpg', 'name': 'H6pqsB1', 'mime': 'image/jpeg', 'extension': 'jpg', 'url': 'https://iili.io/H6pqsB1.jpg', 'size': 15404}, 'thumb': {'filename': 'H6pqsB1.th.jpg', 'name': 'H6pqsB1.th', 'mime': 'image/jpeg', 'extension': 'jpg', 'url': 'https://iili.io/H6pqsB1.th.jpg'}, 'display_url': 'https://iili.io/H6pqsB1.jpg', 'display_width': 256, 'display_height': 256, 'views_label': 'views', 'likes_label': 'likes', 'how_long_ago': 'moments ago', 'date_fixed_peer': '2023-06-19 02:04:11', 'title': '9f14cae8ffa3', 'title_truncated': '9f14cae8ffa3', 'title_truncated_html': '9f14cae8ffa3', 'is_use_loader': False}, 'status_txt': 'OK'}\n"
     ]
    }
   ],
   "source": [
    "\n",
    "def upload_image(api_key, image_path):\n",
    "    upload_url = 'https://freeimage.host/api/1/upload'\n",
    "\n",
    "    # Prepare the parameters\n",
    "    params = {\n",
    "        'key': api_key,\n",
    "        'action': 'upload',\n",
    "        'source': encode_file(image_path),\n",
    "        'format': 'json'\n",
    "    }\n",
    "\n",
    "    # Prepare the files to be uploaded\n",
    "    files = {\n",
    "        'source': encode_file(image_path)\n",
    "    }\n",
    "\n",
    "    # Send the POST request\n",
    "    response = requests.post(upload_url, data=params)\n",
    "\n",
    "    # Process the response\n",
    "    if response.status_code == 200:\n",
    "        response_json = response.json()\n",
    "        # Handle the response JSON as needed\n",
    "        print(response_json)\n",
    "    else:\n",
    "        print('Upload failed. Status code:', response.status_code)\n",
    "\n",
    "\n",
    "# Sử dụng hàm upload_image\n",
    "api_key = '6d207e02198a847aa98d0a2a901485a5'\n",
    "image_path = 'img/1.JPG'\n",
    "\n",
    "upload_image(api_key, image_path)\n"
   ]
  }
 ],
 "metadata": {
  "kernelspec": {
   "display_name": "ipynb",
   "language": "python",
   "name": "python3"
  },
  "language_info": {
   "codemirror_mode": {
    "name": "ipython",
    "version": 3
   },
   "file_extension": ".py",
   "mimetype": "text/x-python",
   "name": "python",
   "nbconvert_exporter": "python",
   "pygments_lexer": "ipython3",
   "version": "3.10.8"
  },
  "orig_nbformat": 4
 },
 "nbformat": 4,
 "nbformat_minor": 2
}
