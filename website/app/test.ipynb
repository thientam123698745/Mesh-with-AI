{
 "cells": [
  {
   "cell_type": "code",
   "execution_count": 1,
   "metadata": {},
   "outputs": [],
   "source": [
    "import json\n",
    "import requests"
   ]
  },
  {
   "cell_type": "code",
   "execution_count": 4,
   "metadata": {},
   "outputs": [],
   "source": [
    "def get_data(number_of_data=10):\n",
    "    # URL của endpoint hoặc API\n",
    "    url = f'https://api.thingspeak.com/channels/2173391/fields/3.json?results={number_of_data}'\n",
    "\n",
    "    # Thực hiện yêu cầu GET để lấy dữ liệu từ server\n",
    "    response = requests.get(url)\n",
    "\n",
    "    # Kiểm tra mã trạng thái của phản hồi\n",
    "    if response.status_code == 200:  # Mã trạng thái 200 đại diện cho thành công\n",
    "        # Lấy dữ liệu từ phản hồi dưới dạng JSON\n",
    "        data = response.json()\n",
    "\n",
    "        # Xử lý dữ liệu theo nhu cầu của bạn\n",
    "        # Ví dụ: lấy giá trị của trường \"field1\" trong dữ liệu\n",
    "        field1_values = [feed['field3'] for feed in data['feeds']]\n",
    "        # Chọn giá trị khác None cuối cùng\n",
    "        for i in range(len(field1_values), 0, -1):\n",
    "            if field1_values[i-1] != None:\n",
    "                print(field1_values[i-1])\n",
    "                return field1_values[i-1]\n",
    "        return get_data(number_of_data + 1)\n",
    "    else:\n",
    "        return get_data(number_of_data)"
   ]
  },
  {
   "cell_type": "code",
   "execution_count": 5,
   "metadata": {},
   "outputs": [
    {
     "name": "stdout",
     "output_type": "stream",
     "text": [
      "/9j/4AAQSkZJRgABAQAAAQABAAD/2wBDAAgGBgcGBQgHBwcJCQgKDBQNDAsLDBkSEw8UHRofHh0aHBwgJC4nICIsIxwcKDcpLDAxNDQ0Hyc5PTgyPC4zNDL/2wBDAQkJCQwLDBgNDRgyIRwhMjIyMjIyMjIyMjIyMjIyMjIyMjIyMjIyMjIyMjIyMjIyMjIyMjIyMjIyMjIyMjIyMjL/wAARCAEAAQADASIAAhEBAxEB/8QAHwAAAQUBAQEBAQE\n"
     ]
    }
   ],
   "source": [
    "with open('respone.txt', 'w') as file:\n",
    "    file.write(get_data(1))"
   ]
  }
 ],
 "metadata": {
  "kernelspec": {
   "display_name": "ipynb",
   "language": "python",
   "name": "python3"
  },
  "language_info": {
   "codemirror_mode": {
    "name": "ipython",
    "version": 3
   },
   "file_extension": ".py",
   "mimetype": "text/x-python",
   "name": "python",
   "nbconvert_exporter": "python",
   "pygments_lexer": "ipython3",
   "version": "3.10.8"
  },
  "orig_nbformat": 4
 },
 "nbformat": 4,
 "nbformat_minor": 2
}
